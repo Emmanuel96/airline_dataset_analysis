{
 "cells": [
  {
   "cell_type": "code",
   "execution_count": 116,
   "id": "d786b1d6",
   "metadata": {},
   "outputs": [],
   "source": [
    "import pandas as pd\n",
    "import matplotlib.pyplot as plt\n",
    "import seaborn as sns\n",
    "import numpy as np\n"
   ]
  },
  {
   "cell_type": "code",
   "execution_count": 6,
   "id": "d515be33",
   "metadata": {},
   "outputs": [
    {
     "data": {
      "text/plain": [
       "year              0\n",
       "month             0\n",
       "day               0\n",
       "dep_time          0\n",
       "sched_dep_time    0\n",
       "dep_delay         0\n",
       "arr_time          0\n",
       "sched_arr_time    0\n",
       "arr_delay         0\n",
       "carrier           0\n",
       "flight            0\n",
       "tailnum           0\n",
       "origin            0\n",
       "dest              0\n",
       "air_time          0\n",
       "distance          0\n",
       "hour              0\n",
       "minute            0\n",
       "time_hour         0\n",
       "dtype: int64"
      ]
     },
     "execution_count": 6,
     "metadata": {},
     "output_type": "execute_result"
    }
   ],
   "source": [
    "df = pd.read_csv('flights.csv')\n",
    "df = df.dropna()\n",
    "df.isnull().sum()"
   ]
  },
  {
   "cell_type": "raw",
   "id": "9bf9d5fc",
   "metadata": {},
   "source": [
    "We have removed all our null values and now we can work with a more clean dataset"
   ]
  },
  {
   "cell_type": "code",
   "execution_count": 7,
   "id": "5e4e0183",
   "metadata": {},
   "outputs": [
    {
     "data": {
      "text/html": [
       "<div>\n",
       "<style scoped>\n",
       "    .dataframe tbody tr th:only-of-type {\n",
       "        vertical-align: middle;\n",
       "    }\n",
       "\n",
       "    .dataframe tbody tr th {\n",
       "        vertical-align: top;\n",
       "    }\n",
       "\n",
       "    .dataframe thead th {\n",
       "        text-align: right;\n",
       "    }\n",
       "</style>\n",
       "<table border=\"1\" class=\"dataframe\">\n",
       "  <thead>\n",
       "    <tr style=\"text-align: right;\">\n",
       "      <th></th>\n",
       "      <th>year</th>\n",
       "      <th>month</th>\n",
       "      <th>day</th>\n",
       "      <th>dep_time</th>\n",
       "      <th>sched_dep_time</th>\n",
       "      <th>dep_delay</th>\n",
       "      <th>arr_time</th>\n",
       "      <th>sched_arr_time</th>\n",
       "      <th>arr_delay</th>\n",
       "      <th>carrier</th>\n",
       "      <th>flight</th>\n",
       "      <th>tailnum</th>\n",
       "      <th>origin</th>\n",
       "      <th>dest</th>\n",
       "      <th>air_time</th>\n",
       "      <th>distance</th>\n",
       "      <th>hour</th>\n",
       "      <th>minute</th>\n",
       "      <th>time_hour</th>\n",
       "    </tr>\n",
       "  </thead>\n",
       "  <tbody>\n",
       "    <tr>\n",
       "      <th>0</th>\n",
       "      <td>2013</td>\n",
       "      <td>1</td>\n",
       "      <td>1</td>\n",
       "      <td>517.0</td>\n",
       "      <td>515</td>\n",
       "      <td>2.0</td>\n",
       "      <td>830.0</td>\n",
       "      <td>819</td>\n",
       "      <td>11.0</td>\n",
       "      <td>UA</td>\n",
       "      <td>1545</td>\n",
       "      <td>N14228</td>\n",
       "      <td>EWR</td>\n",
       "      <td>IAH</td>\n",
       "      <td>227.0</td>\n",
       "      <td>1400</td>\n",
       "      <td>5</td>\n",
       "      <td>15</td>\n",
       "      <td>2013-01-01T05:00:00Z</td>\n",
       "    </tr>\n",
       "    <tr>\n",
       "      <th>1</th>\n",
       "      <td>2013</td>\n",
       "      <td>1</td>\n",
       "      <td>1</td>\n",
       "      <td>533.0</td>\n",
       "      <td>529</td>\n",
       "      <td>4.0</td>\n",
       "      <td>850.0</td>\n",
       "      <td>830</td>\n",
       "      <td>20.0</td>\n",
       "      <td>UA</td>\n",
       "      <td>1714</td>\n",
       "      <td>N24211</td>\n",
       "      <td>LGA</td>\n",
       "      <td>IAH</td>\n",
       "      <td>227.0</td>\n",
       "      <td>1416</td>\n",
       "      <td>5</td>\n",
       "      <td>29</td>\n",
       "      <td>2013-01-01T05:00:00Z</td>\n",
       "    </tr>\n",
       "    <tr>\n",
       "      <th>2</th>\n",
       "      <td>2013</td>\n",
       "      <td>1</td>\n",
       "      <td>1</td>\n",
       "      <td>542.0</td>\n",
       "      <td>540</td>\n",
       "      <td>2.0</td>\n",
       "      <td>923.0</td>\n",
       "      <td>850</td>\n",
       "      <td>33.0</td>\n",
       "      <td>AA</td>\n",
       "      <td>1141</td>\n",
       "      <td>N619AA</td>\n",
       "      <td>JFK</td>\n",
       "      <td>MIA</td>\n",
       "      <td>160.0</td>\n",
       "      <td>1089</td>\n",
       "      <td>5</td>\n",
       "      <td>40</td>\n",
       "      <td>2013-01-01T05:00:00Z</td>\n",
       "    </tr>\n",
       "    <tr>\n",
       "      <th>3</th>\n",
       "      <td>2013</td>\n",
       "      <td>1</td>\n",
       "      <td>1</td>\n",
       "      <td>544.0</td>\n",
       "      <td>545</td>\n",
       "      <td>-1.0</td>\n",
       "      <td>1004.0</td>\n",
       "      <td>1022</td>\n",
       "      <td>-18.0</td>\n",
       "      <td>B6</td>\n",
       "      <td>725</td>\n",
       "      <td>N804JB</td>\n",
       "      <td>JFK</td>\n",
       "      <td>BQN</td>\n",
       "      <td>183.0</td>\n",
       "      <td>1576</td>\n",
       "      <td>5</td>\n",
       "      <td>45</td>\n",
       "      <td>2013-01-01T05:00:00Z</td>\n",
       "    </tr>\n",
       "    <tr>\n",
       "      <th>4</th>\n",
       "      <td>2013</td>\n",
       "      <td>1</td>\n",
       "      <td>1</td>\n",
       "      <td>554.0</td>\n",
       "      <td>600</td>\n",
       "      <td>-6.0</td>\n",
       "      <td>812.0</td>\n",
       "      <td>837</td>\n",
       "      <td>-25.0</td>\n",
       "      <td>DL</td>\n",
       "      <td>461</td>\n",
       "      <td>N668DN</td>\n",
       "      <td>LGA</td>\n",
       "      <td>ATL</td>\n",
       "      <td>116.0</td>\n",
       "      <td>762</td>\n",
       "      <td>6</td>\n",
       "      <td>0</td>\n",
       "      <td>2013-01-01T06:00:00Z</td>\n",
       "    </tr>\n",
       "  </tbody>\n",
       "</table>\n",
       "</div>"
      ],
      "text/plain": [
       "   year  month  day  dep_time  sched_dep_time  dep_delay  arr_time  \\\n",
       "0  2013      1    1     517.0             515        2.0     830.0   \n",
       "1  2013      1    1     533.0             529        4.0     850.0   \n",
       "2  2013      1    1     542.0             540        2.0     923.0   \n",
       "3  2013      1    1     544.0             545       -1.0    1004.0   \n",
       "4  2013      1    1     554.0             600       -6.0     812.0   \n",
       "\n",
       "   sched_arr_time  arr_delay carrier  flight tailnum origin dest  air_time  \\\n",
       "0             819       11.0      UA    1545  N14228    EWR  IAH     227.0   \n",
       "1             830       20.0      UA    1714  N24211    LGA  IAH     227.0   \n",
       "2             850       33.0      AA    1141  N619AA    JFK  MIA     160.0   \n",
       "3            1022      -18.0      B6     725  N804JB    JFK  BQN     183.0   \n",
       "4             837      -25.0      DL     461  N668DN    LGA  ATL     116.0   \n",
       "\n",
       "   distance  hour  minute             time_hour  \n",
       "0      1400     5      15  2013-01-01T05:00:00Z  \n",
       "1      1416     5      29  2013-01-01T05:00:00Z  \n",
       "2      1089     5      40  2013-01-01T05:00:00Z  \n",
       "3      1576     5      45  2013-01-01T05:00:00Z  \n",
       "4       762     6       0  2013-01-01T06:00:00Z  "
      ]
     },
     "execution_count": 7,
     "metadata": {},
     "output_type": "execute_result"
    }
   ],
   "source": [
    "df.head()"
   ]
  },
  {
   "cell_type": "raw",
   "id": "bf66d899",
   "metadata": {},
   "source": [
    "# Task 2: "
   ]
  },
  {
   "cell_type": "code",
   "execution_count": 10,
   "id": "126224a4",
   "metadata": {},
   "outputs": [
    {
     "data": {
      "image/png": "[encoded data removed]",
      "text/plain": [
       "<Figure size 864x648 with 2 Axes>"
      ]
     },
     "metadata": {
      "needs_background": "light"
     },
     "output_type": "display_data"
    }
   ],
   "source": [
    "# Correlation matrix to show correlation between different attributes/columns\n",
    "corr_matrix = df.corr()\n",
    "corr_matrix\n",
    "f, ax = plt.subplots(figsize=(12, 9))\n",
    "sns.heatmap(corr_matrix, vmax=1, square=True);\n",
    "plt.show()"
   ]
  },
  {
   "cell_type": "raw",
   "id": "3e7cb884",
   "metadata": {},
   "source": [
    "From the heat map above, we can see, as expected, that the arrival delay has a high correlation with the departure delay. We can also see that both the delayed arrival and departure have a negative correlation with the distance i.e. the longer the distance the more likely they are delayed. \n",
    "\n",
    "There's not too much to learn from the map above that we didn't already know, we should instead check for the carriers with the most arrivals and delayed flights"
   ]
  },
  {
   "cell_type": "code",
   "execution_count": 47,
   "id": "f4d6229a",
   "metadata": {},
   "outputs": [
    {
     "name": "stdout",
     "output_type": "stream",
     "text": [
      "carrier\n",
      "OO       10\n",
      "HA       97\n",
      "AS      189\n",
      "YV      258\n",
      "F9      392\n",
      "VX     1746\n",
      "FL     1895\n",
      "WN     5304\n",
      "9E     6637\n",
      "US     7349\n",
      "AA    10706\n",
      "MQ    11693\n",
      "DL    16413\n",
      "UA    22222\n",
      "B6    23609\n",
      "EV    24484\n",
      "Name: arr_delay, dtype: int64\n"
     ]
    }
   ],
   "source": [
    "# View of the total amount of flights with delayed arrivals per airline\n",
    "delayed_arrivals = df[df['arr_delay'] > 0]\n",
    "delayed_arrivals = delayed_arrivals.groupby('carrier')['arr_delay'].count().sort_values()\n",
    "print(delayed_arrivals)"
   ]
  },
  {
   "cell_type": "code",
   "execution_count": 48,
   "id": "d148c139",
   "metadata": {},
   "outputs": [
    {
     "data": {
      "text/plain": [
       "<AxesSubplot:xlabel='carrier', ylabel='arr_delay'>"
      ]
     },
     "execution_count": 48,
     "metadata": {},
     "output_type": "execute_result"
    },
    {
     "data": {
      "image/png": "[encoded data removed]",
      "text/plain": [
       "<Figure size 432x288 with 1 Axes>"
      ]
     },
     "metadata": {
      "needs_background": "light"
     },
     "output_type": "display_data"
    }
   ],
   "source": [
    "# sns.barplot(x=\"day\", y=\"total_bill\", hue=\"sex\", data=tips)\n",
    "\n",
    "sns.barplot(x = \"carrier\", y =\"arr_delay\", data =delayed_arrivals.reset_index())"
   ]
  },
  {
   "cell_type": "raw",
   "id": "dd2ce4da",
   "metadata": {},
   "source": [
    "Interestingly, UA has higher delayed arrivals than Delta Airline as opposed to what we think in our Hypothesis. \n",
    "\n",
    "From the barchart above, we can also see that Express jet has the most arrival delays. I'm not sure if it's related to it, but it's probably part of the reason why they are currently out of service now.\n",
    "\n",
    "In the case of B6 which is Jet Blue, we can see the effects of this study still existing today; with an outrage of Jet Blue customers earlier this year stating their disapproval of beign delayed for hours in the airport. \n",
    "\n",
    "UA is just right after these two and then DL, it's possible that the number of delays for both is mostly due to the fact that they are part of the biggest airlines (therefore more flights,in total, than the others and hence more possible delays) in this list but it could also be a pointer at an operational issue."
   ]
  },
  {
   "cell_type": "code",
   "execution_count": 49,
   "id": "c231328c",
   "metadata": {},
   "outputs": [
    {
     "name": "stdout",
     "output_type": "stream",
     "text": [
      "carrier\n",
      "OO        9\n",
      "HA       69\n",
      "AS      225\n",
      "YV      232\n",
      "F9      340\n",
      "FL     1647\n",
      "VX     2216\n",
      "US     4762\n",
      "WN     6535\n",
      "9E     6980\n",
      "MQ     7966\n",
      "AA    10105\n",
      "DL    15186\n",
      "B6    21372\n",
      "EV    22976\n",
      "UA    27125\n",
      "Name: dep_delay, dtype: int64\n"
     ]
    }
   ],
   "source": [
    "# View of the total amount of delayed departures\n",
    "delayed_departures = df[df['dep_delay'] > 0]\n",
    "delayed_departures = delayed_departures.groupby('carrier')['dep_delay'].count().sort_values()\n",
    "print(delayed_departures)"
   ]
  },
  {
   "cell_type": "code",
   "execution_count": 50,
   "id": "11c9116d",
   "metadata": {},
   "outputs": [
    {
     "data": {
      "text/plain": [
       "<AxesSubplot:xlabel='carrier', ylabel='dep_delay'>"
      ]
     },
     "execution_count": 50,
     "metadata": {},
     "output_type": "execute_result"
    },
    {
     "data": {
      "image/png": "[encoded data removed]",
      "text/plain": [
       "<Figure size 432x288 with 1 Axes>"
      ]
     },
     "metadata": {
      "needs_background": "light"
     },
     "output_type": "display_data"
    }
   ],
   "source": [
    "sns.barplot(x = \"carrier\", y = \"dep_delay\", data = delayed_departures.reset_index())"
   ]
  },
  {
   "cell_type": "raw",
   "id": "043e2d8f",
   "metadata": {},
   "source": [
    "There's not a lot of shock here as I expected to see the airlines with the most delayed arrival time to also be the ones with the most delayed departure times. With our top four still retaining their positions. \n",
    "\n",
    "What's really interesting here is that United American airline some how has the most delayed departures, more than both EV and B6 which have the most delayed arrival. \n",
    "\n",
    "If I was to guess, I would say it's because UA has larger planes and it would probably take some more time completing the preparation and boarding process. But that's just a guess, I could be wrong. "
   ]
  },
  {
   "cell_type": "code",
   "execution_count": 52,
   "id": "5163a23e",
   "metadata": {},
   "outputs": [
    {
     "name": "stdout",
     "output_type": "stream",
     "text": [
      "month\n",
      "9      6845\n",
      "11     9639\n",
      "10     9823\n",
      "2     10100\n",
      "5     10189\n",
      "3     10919\n",
      "1     11150\n",
      "8     11629\n",
      "6     12490\n",
      "4     12522\n",
      "7     13304\n",
      "12    14394\n",
      "Name: arr_delay, dtype: int64\n"
     ]
    }
   ],
   "source": [
    "# View of the month with the most delayed departures\n",
    "months_delayed_arrival_times = df[df['arr_delay'] > 0]\n",
    "months_delayed_arrival_times = months_delayed_arrival_times.groupby('month')['arr_delay'].count().sort_values()\n",
    "print(months_delayed_arrival_times)"
   ]
  },
  {
   "cell_type": "code",
   "execution_count": 54,
   "id": "3e3b570c",
   "metadata": {},
   "outputs": [
    {
     "data": {
      "text/plain": [
       "<AxesSubplot:xlabel='month', ylabel='arr_delay'>"
      ]
     },
     "execution_count": 54,
     "metadata": {},
     "output_type": "execute_result"
    },
    {
     "data": {
      "image/png": "[encoded data removed]",
      "text/plain": [
       "<Figure size 432x288 with 1 Axes>"
      ]
     },
     "metadata": {
      "needs_background": "light"
     },
     "output_type": "display_data"
    }
   ],
   "source": [
    "sns.barplot(x = \"month\", y = \"arr_delay\", data = months_delayed_arrival_times.reset_index())"
   ]
  },
  {
   "cell_type": "raw",
   "id": "8bf57755",
   "metadata": {},
   "source": [
    "It only makes sense for December to have the most delayed flights. Possibly for two reasons; one because it's the holiday season and people are travelling the most around this time adn two because it's winter and weather conditions around this time definitely affect the arrival and departure time. \n",
    "\n",
    "The next highest is July and I'm not sure why that is but if I was to guess, I would say it's a holiday season because it decreases from then up until September. Maybe it's the weather as July is the start of the Summer. "
   ]
  },
  {
   "cell_type": "code",
   "execution_count": 64,
   "id": "56ffb7ac",
   "metadata": {},
   "outputs": [
    {
     "data": {
      "text/html": [
       "<div>\n",
       "<style scoped>\n",
       "    .dataframe tbody tr th:only-of-type {\n",
       "        vertical-align: middle;\n",
       "    }\n",
       "\n",
       "    .dataframe tbody tr th {\n",
       "        vertical-align: top;\n",
       "    }\n",
       "\n",
       "    .dataframe thead th {\n",
       "        text-align: right;\n",
       "    }\n",
       "</style>\n",
       "<table border=\"1\" class=\"dataframe\">\n",
       "  <thead>\n",
       "    <tr style=\"text-align: right;\">\n",
       "      <th></th>\n",
       "      <th>arr_delay</th>\n",
       "      <th>start-end</th>\n",
       "    </tr>\n",
       "  </thead>\n",
       "  <tbody>\n",
       "    <tr>\n",
       "      <th>0</th>\n",
       "      <td>1</td>\n",
       "      <td>JFK-&gt;MEM</td>\n",
       "    </tr>\n",
       "    <tr>\n",
       "      <th>1</th>\n",
       "      <td>1</td>\n",
       "      <td>JFK-&gt;STL</td>\n",
       "    </tr>\n",
       "    <tr>\n",
       "      <th>2</th>\n",
       "      <td>1</td>\n",
       "      <td>JFK-&gt;BHM</td>\n",
       "    </tr>\n",
       "    <tr>\n",
       "      <th>3</th>\n",
       "      <td>1</td>\n",
       "      <td>LGA-&gt;LEX</td>\n",
       "    </tr>\n",
       "    <tr>\n",
       "      <th>4</th>\n",
       "      <td>2</td>\n",
       "      <td>JFK-&gt;JAC</td>\n",
       "    </tr>\n",
       "    <tr>\n",
       "      <th>...</th>\n",
       "      <td>...</td>\n",
       "      <td>...</td>\n",
       "    </tr>\n",
       "    <tr>\n",
       "      <th>218</th>\n",
       "      <td>5961</td>\n",
       "      <td>LGA-&gt;CLT</td>\n",
       "    </tr>\n",
       "    <tr>\n",
       "      <th>219</th>\n",
       "      <td>8109</td>\n",
       "      <td>JFK-&gt;SFO</td>\n",
       "    </tr>\n",
       "    <tr>\n",
       "      <th>220</th>\n",
       "      <td>8507</td>\n",
       "      <td>LGA-&gt;ORD</td>\n",
       "    </tr>\n",
       "    <tr>\n",
       "      <th>221</th>\n",
       "      <td>10041</td>\n",
       "      <td>LGA-&gt;ATL</td>\n",
       "    </tr>\n",
       "    <tr>\n",
       "      <th>222</th>\n",
       "      <td>11159</td>\n",
       "      <td>JFK-&gt;LAX</td>\n",
       "    </tr>\n",
       "  </tbody>\n",
       "</table>\n",
       "<p>223 rows × 2 columns</p>\n",
       "</div>"
      ],
      "text/plain": [
       "     arr_delay start-end\n",
       "0            1  JFK->MEM\n",
       "1            1  JFK->STL\n",
       "2            1  JFK->BHM\n",
       "3            1  LGA->LEX\n",
       "4            2  JFK->JAC\n",
       "..         ...       ...\n",
       "218       5961  LGA->CLT\n",
       "219       8109  JFK->SFO\n",
       "220       8507  LGA->ORD\n",
       "221      10041  LGA->ATL\n",
       "222      11159  JFK->LAX\n",
       "\n",
       "[223 rows x 2 columns]"
      ]
     },
     "execution_count": 64,
     "metadata": {},
     "output_type": "execute_result"
    }
   ],
   "source": [
    "# Trip i.e. origin-destination pair with most arrival delays\n",
    "trip_with_most_arrival_delays = df.groupby(['origin', 'dest'])['arr_delay'].count().sort_values(ascending = True)\n",
    "df_originDest = trip_with_most_arrival_delays.reset_index()\n",
    "# get the delayed arrivals\n",
    "df_originDest = df_originDest[df_originDest['arr_delay'] > 0]\n",
    "\n",
    "df_originDest['start-end'] = df_originDest['origin'] +'->'+df_originDest['dest']\n",
    "df_originDest.drop(['dest','origin'], axis = 1)\n",
    "# print(df_originDest)"
   ]
  },
  {
   "cell_type": "code",
   "execution_count": 69,
   "id": "94fdf2b6",
   "metadata": {},
   "outputs": [
    {
     "data": {
      "text/plain": [
       "<AxesSubplot:xlabel='start-end', ylabel='arr_delay'>"
      ]
     },
     "execution_count": 69,
     "metadata": {},
     "output_type": "execute_result"
    },
    {
     "data": {
      "image/png": "[encoded data removed]",
      "text/plain": [
       "<Figure size 432x288 with 1 Axes>"
      ]
     },
     "metadata": {
      "needs_background": "light"
     },
     "output_type": "display_data"
    }
   ],
   "source": [
    "sns.barplot(x = \"start-end\", y = \"arr_delay\", data = df_originDest.tail(5))"
   ]
  },
  {
   "cell_type": "raw",
   "id": "bb765e8d",
   "metadata": {},
   "source": [
    "JFK -> LAX had the most arrival delays and JFK to Memphis had the lowest amount of arrival delays"
   ]
  },
  {
   "cell_type": "code",
   "execution_count": 89,
   "id": "16888834",
   "metadata": {},
   "outputs": [
    {
     "data": {
      "image/png": "[encoded data removed]",
      "text/plain": [
       "<Figure size 432x288 with 1 Axes>"
      ]
     },
     "metadata": {},
     "output_type": "display_data"
    }
   ],
   "source": [
    "# percentage of delayed and early departures\n",
    "delayed_flights = df[df['dep_delay']> 0]\n",
    "df_df = delayed_flights.shape[0]\n",
    "df_df\n",
    "early_flights = df[df['dep_delay']<= 0]\n",
    "df_ef = early_flights.shape[0]\n",
    "labels = ['delayed Flights', 'Early flights']\n",
    "plt.pie([df_df, df_ef], labels = labels,autopct='%1.2f%%')\n",
    "plt.show()"
   ]
  },
  {
   "cell_type": "raw",
   "id": "8261de33",
   "metadata": {},
   "source": [
    "It's interesting that this year, 2013, had a higher arrival delay and % of arrival delays than the pandemic year 2020. This is a higher figure than that of the year before which had about 16.16% which shows that during this period there was a definite issue with flight managements which only got worse in 2014 but eased up until 2019 when it short up slightly again. "
   ]
  },
  {
   "cell_type": "code",
   "execution_count": 104,
   "id": "ba5f630b",
   "metadata": {},
   "outputs": [
    {
     "data": {
      "text/html": [
       "<div>\n",
       "<style scoped>\n",
       "    .dataframe tbody tr th:only-of-type {\n",
       "        vertical-align: middle;\n",
       "    }\n",
       "\n",
       "    .dataframe tbody tr th {\n",
       "        vertical-align: top;\n",
       "    }\n",
       "\n",
       "    .dataframe thead th {\n",
       "        text-align: right;\n",
       "    }\n",
       "</style>\n",
       "<table border=\"1\" class=\"dataframe\">\n",
       "  <thead>\n",
       "    <tr style=\"text-align: right;\">\n",
       "      <th></th>\n",
       "      <th>carrier</th>\n",
       "      <th>arr_delay</th>\n",
       "    </tr>\n",
       "  </thead>\n",
       "  <tbody>\n",
       "    <tr>\n",
       "      <th>0</th>\n",
       "      <td>DL</td>\n",
       "      <td>-25.0</td>\n",
       "    </tr>\n",
       "    <tr>\n",
       "      <th>1</th>\n",
       "      <td>DL</td>\n",
       "      <td>-8.0</td>\n",
       "    </tr>\n",
       "    <tr>\n",
       "      <th>2</th>\n",
       "      <td>DL</td>\n",
       "      <td>-8.0</td>\n",
       "    </tr>\n",
       "    <tr>\n",
       "      <th>3</th>\n",
       "      <td>DL</td>\n",
       "      <td>-9.0</td>\n",
       "    </tr>\n",
       "    <tr>\n",
       "      <th>4</th>\n",
       "      <td>DL</td>\n",
       "      <td>-33.0</td>\n",
       "    </tr>\n",
       "    <tr>\n",
       "      <th>...</th>\n",
       "      <td>...</td>\n",
       "      <td>...</td>\n",
       "    </tr>\n",
       "    <tr>\n",
       "      <th>29995</th>\n",
       "      <td>UA</td>\n",
       "      <td>7.0</td>\n",
       "    </tr>\n",
       "    <tr>\n",
       "      <th>29996</th>\n",
       "      <td>UA</td>\n",
       "      <td>31.0</td>\n",
       "    </tr>\n",
       "    <tr>\n",
       "      <th>29997</th>\n",
       "      <td>UA</td>\n",
       "      <td>-28.0</td>\n",
       "    </tr>\n",
       "    <tr>\n",
       "      <th>29998</th>\n",
       "      <td>UA</td>\n",
       "      <td>-17.0</td>\n",
       "    </tr>\n",
       "    <tr>\n",
       "      <th>29999</th>\n",
       "      <td>UA</td>\n",
       "      <td>-29.0</td>\n",
       "    </tr>\n",
       "  </tbody>\n",
       "</table>\n",
       "<p>30000 rows × 2 columns</p>\n",
       "</div>"
      ],
      "text/plain": [
       "      carrier  arr_delay\n",
       "0          DL      -25.0\n",
       "1          DL       -8.0\n",
       "2          DL       -8.0\n",
       "3          DL       -9.0\n",
       "4          DL      -33.0\n",
       "...       ...        ...\n",
       "29995      UA        7.0\n",
       "29996      UA       31.0\n",
       "29997      UA      -28.0\n",
       "29998      UA      -17.0\n",
       "29999      UA      -29.0\n",
       "\n",
       "[30000 rows x 2 columns]"
      ]
     },
     "execution_count": 104,
     "metadata": {},
     "output_type": "execute_result"
    }
   ],
   "source": [
    "# Task 3\n",
    "\n",
    "dl_flights = df[df['carrier'] == 'DL'].head(15000)\n",
    "ua_flights = df[df['carrier']== 'UA'].head(15000)\n",
    "pop_data = pd.concat([dl_flights, ua_flights])\n",
    "\n",
    "pop_data = pop_data[['carrier', 'arr_delay']]\n",
    "\n",
    "pop_data.reset_index(inplace = True)\n",
    "pop_data.drop('index', axis = 1)"
   ]
  },
  {
   "cell_type": "code",
   "execution_count": 107,
   "id": "61dd1286",
   "metadata": {},
   "outputs": [
    {
     "data": {
      "text/html": [
       "<div>\n",
       "<style scoped>\n",
       "    .dataframe tbody tr th:only-of-type {\n",
       "        vertical-align: middle;\n",
       "    }\n",
       "\n",
       "    .dataframe tbody tr th {\n",
       "        vertical-align: top;\n",
       "    }\n",
       "\n",
       "    .dataframe thead th {\n",
       "        text-align: right;\n",
       "    }\n",
       "</style>\n",
       "<table border=\"1\" class=\"dataframe\">\n",
       "  <thead>\n",
       "    <tr style=\"text-align: right;\">\n",
       "      <th></th>\n",
       "      <th>index</th>\n",
       "      <th>carrier</th>\n",
       "      <th>arr_delay</th>\n",
       "      <th>sample_id</th>\n",
       "    </tr>\n",
       "  </thead>\n",
       "  <tbody>\n",
       "    <tr>\n",
       "      <th>25644</th>\n",
       "      <td>61579</td>\n",
       "      <td>UA</td>\n",
       "      <td>-5.0</td>\n",
       "      <td>2</td>\n",
       "    </tr>\n",
       "    <tr>\n",
       "      <th>28951</th>\n",
       "      <td>80211</td>\n",
       "      <td>UA</td>\n",
       "      <td>-18.0</td>\n",
       "      <td>2</td>\n",
       "    </tr>\n",
       "    <tr>\n",
       "      <th>23082</th>\n",
       "      <td>46976</td>\n",
       "      <td>UA</td>\n",
       "      <td>-12.0</td>\n",
       "      <td>2</td>\n",
       "    </tr>\n",
       "    <tr>\n",
       "      <th>25284</th>\n",
       "      <td>59608</td>\n",
       "      <td>UA</td>\n",
       "      <td>-9.0</td>\n",
       "      <td>2</td>\n",
       "    </tr>\n",
       "    <tr>\n",
       "      <th>28473</th>\n",
       "      <td>77458</td>\n",
       "      <td>UA</td>\n",
       "      <td>-19.0</td>\n",
       "      <td>2</td>\n",
       "    </tr>\n",
       "    <tr>\n",
       "      <th>...</th>\n",
       "      <td>...</td>\n",
       "      <td>...</td>\n",
       "      <td>...</td>\n",
       "      <td>...</td>\n",
       "    </tr>\n",
       "    <tr>\n",
       "      <th>25354</th>\n",
       "      <td>59983</td>\n",
       "      <td>UA</td>\n",
       "      <td>-21.0</td>\n",
       "      <td>2</td>\n",
       "    </tr>\n",
       "    <tr>\n",
       "      <th>25201</th>\n",
       "      <td>59165</td>\n",
       "      <td>UA</td>\n",
       "      <td>21.0</td>\n",
       "      <td>2</td>\n",
       "    </tr>\n",
       "    <tr>\n",
       "      <th>24740</th>\n",
       "      <td>56487</td>\n",
       "      <td>UA</td>\n",
       "      <td>13.0</td>\n",
       "      <td>2</td>\n",
       "    </tr>\n",
       "    <tr>\n",
       "      <th>16641</th>\n",
       "      <td>9477</td>\n",
       "      <td>UA</td>\n",
       "      <td>-23.0</td>\n",
       "      <td>2</td>\n",
       "    </tr>\n",
       "    <tr>\n",
       "      <th>21702</th>\n",
       "      <td>39082</td>\n",
       "      <td>UA</td>\n",
       "      <td>24.0</td>\n",
       "      <td>2</td>\n",
       "    </tr>\n",
       "  </tbody>\n",
       "</table>\n",
       "<p>1000 rows × 4 columns</p>\n",
       "</div>"
      ],
      "text/plain": [
       "       index carrier  arr_delay  sample_id\n",
       "25644  61579      UA       -5.0          2\n",
       "28951  80211      UA      -18.0          2\n",
       "23082  46976      UA      -12.0          2\n",
       "25284  59608      UA       -9.0          2\n",
       "28473  77458      UA      -19.0          2\n",
       "...      ...     ...        ...        ...\n",
       "25354  59983      UA      -21.0          2\n",
       "25201  59165      UA       21.0          2\n",
       "24740  56487      UA       13.0          2\n",
       "16641   9477      UA      -23.0          2\n",
       "21702  39082      UA       24.0          2\n",
       "\n",
       "[1000 rows x 4 columns]"
      ]
     },
     "execution_count": 107,
     "metadata": {},
     "output_type": "execute_result"
    }
   ],
   "source": [
    "# Task 4\n",
    "\n",
    "dl = pop_data[pop_data['carrier'] == 'DL'].sample(n=1000, random_state=5)\n",
    "dl['sample_id'] = 1\n",
    "ua = pop_data[pop_data['carrier'] == 'UA'].sample(n=1000, random_state=5)\n",
    "ua['sample_id'] = 2\n",
    "ua"
   ]
  },
  {
   "cell_type": "code",
   "execution_count": 108,
   "id": "3443fddc",
   "metadata": {},
   "outputs": [
    {
     "data": {
      "text/html": [
       "<div>\n",
       "<style scoped>\n",
       "    .dataframe tbody tr th:only-of-type {\n",
       "        vertical-align: middle;\n",
       "    }\n",
       "\n",
       "    .dataframe tbody tr th {\n",
       "        vertical-align: top;\n",
       "    }\n",
       "\n",
       "    .dataframe thead th {\n",
       "        text-align: right;\n",
       "    }\n",
       "</style>\n",
       "<table border=\"1\" class=\"dataframe\">\n",
       "  <thead>\n",
       "    <tr style=\"text-align: right;\">\n",
       "      <th></th>\n",
       "      <th>index</th>\n",
       "      <th>carrier</th>\n",
       "      <th>arr_delay</th>\n",
       "      <th>sample_id</th>\n",
       "    </tr>\n",
       "  </thead>\n",
       "  <tbody>\n",
       "    <tr>\n",
       "      <th>10644</th>\n",
       "      <td>76434</td>\n",
       "      <td>DL</td>\n",
       "      <td>-3.0</td>\n",
       "      <td>1</td>\n",
       "    </tr>\n",
       "    <tr>\n",
       "      <th>13951</th>\n",
       "      <td>100425</td>\n",
       "      <td>DL</td>\n",
       "      <td>-3.0</td>\n",
       "      <td>1</td>\n",
       "    </tr>\n",
       "    <tr>\n",
       "      <th>8082</th>\n",
       "      <td>58249</td>\n",
       "      <td>DL</td>\n",
       "      <td>-6.0</td>\n",
       "      <td>1</td>\n",
       "    </tr>\n",
       "    <tr>\n",
       "      <th>10284</th>\n",
       "      <td>73833</td>\n",
       "      <td>DL</td>\n",
       "      <td>-4.0</td>\n",
       "      <td>1</td>\n",
       "    </tr>\n",
       "    <tr>\n",
       "      <th>13473</th>\n",
       "      <td>96839</td>\n",
       "      <td>DL</td>\n",
       "      <td>51.0</td>\n",
       "      <td>1</td>\n",
       "    </tr>\n",
       "    <tr>\n",
       "      <th>...</th>\n",
       "      <td>...</td>\n",
       "      <td>...</td>\n",
       "      <td>...</td>\n",
       "      <td>...</td>\n",
       "    </tr>\n",
       "    <tr>\n",
       "      <th>25354</th>\n",
       "      <td>59983</td>\n",
       "      <td>UA</td>\n",
       "      <td>-21.0</td>\n",
       "      <td>2</td>\n",
       "    </tr>\n",
       "    <tr>\n",
       "      <th>25201</th>\n",
       "      <td>59165</td>\n",
       "      <td>UA</td>\n",
       "      <td>21.0</td>\n",
       "      <td>2</td>\n",
       "    </tr>\n",
       "    <tr>\n",
       "      <th>24740</th>\n",
       "      <td>56487</td>\n",
       "      <td>UA</td>\n",
       "      <td>13.0</td>\n",
       "      <td>2</td>\n",
       "    </tr>\n",
       "    <tr>\n",
       "      <th>16641</th>\n",
       "      <td>9477</td>\n",
       "      <td>UA</td>\n",
       "      <td>-23.0</td>\n",
       "      <td>2</td>\n",
       "    </tr>\n",
       "    <tr>\n",
       "      <th>21702</th>\n",
       "      <td>39082</td>\n",
       "      <td>UA</td>\n",
       "      <td>24.0</td>\n",
       "      <td>2</td>\n",
       "    </tr>\n",
       "  </tbody>\n",
       "</table>\n",
       "<p>2000 rows × 4 columns</p>\n",
       "</div>"
      ],
      "text/plain": [
       "        index carrier  arr_delay  sample_id\n",
       "10644   76434      DL       -3.0          1\n",
       "13951  100425      DL       -3.0          1\n",
       "8082    58249      DL       -6.0          1\n",
       "10284   73833      DL       -4.0          1\n",
       "13473   96839      DL       51.0          1\n",
       "...       ...     ...        ...        ...\n",
       "25354   59983      UA      -21.0          2\n",
       "25201   59165      UA       21.0          2\n",
       "24740   56487      UA       13.0          2\n",
       "16641    9477      UA      -23.0          2\n",
       "21702   39082      UA       24.0          2\n",
       "\n",
       "[2000 rows x 4 columns]"
      ]
     },
     "execution_count": 108,
     "metadata": {},
     "output_type": "execute_result"
    }
   ],
   "source": [
    "# Task 5\n",
    "samples = pd.concat([dl, ua])\n",
    "samples"
   ]
  },
  {
   "cell_type": "code",
   "execution_count": 164,
   "id": "55c89a2e",
   "metadata": {},
   "outputs": [
    {
     "data": {
      "text/html": [
       "<div>\n",
       "<style scoped>\n",
       "    .dataframe tbody tr th:only-of-type {\n",
       "        vertical-align: middle;\n",
       "    }\n",
       "\n",
       "    .dataframe tbody tr th {\n",
       "        vertical-align: top;\n",
       "    }\n",
       "\n",
       "    .dataframe thead th {\n",
       "        text-align: right;\n",
       "    }\n",
       "</style>\n",
       "<table border=\"1\" class=\"dataframe\">\n",
       "  <thead>\n",
       "    <tr style=\"text-align: right;\">\n",
       "      <th></th>\n",
       "      <th>carrier</th>\n",
       "      <th>standard_error</th>\n",
       "      <th>mean</th>\n",
       "    </tr>\n",
       "  </thead>\n",
       "  <tbody>\n",
       "    <tr>\n",
       "      <th>0</th>\n",
       "      <td>DL</td>\n",
       "      <td>1.105799</td>\n",
       "      <td>-0.751</td>\n",
       "    </tr>\n",
       "    <tr>\n",
       "      <th>1</th>\n",
       "      <td>UA</td>\n",
       "      <td>0.899535</td>\n",
       "      <td>-0.883</td>\n",
       "    </tr>\n",
       "  </tbody>\n",
       "</table>\n",
       "</div>"
      ],
      "text/plain": [
       "  carrier  standard_error   mean\n",
       "0      DL        1.105799 -0.751\n",
       "1      UA        0.899535 -0.883"
      ]
     },
     "execution_count": 164,
     "metadata": {},
     "output_type": "execute_result"
    }
   ],
   "source": [
    "# Task 6\n",
    "mean = samples.groupby('carrier').mean().reset_index()\n",
    "mean = mean.rename(columns = {\"arr_delay\": 'mean'}).drop(['index', 'sample_id'], axis = 1)\n",
    "\n",
    "# I will use the sem method to get the standard error\n",
    "standard_error = samples.groupby('carrier').sem().reset_index()\n",
    "standard_error = standard_error.rename(columns = {\"arr_delay\": 'standard_error'}).drop(['index', 'sample_id'], axis = 1)\n",
    "\n",
    "df = standard_error.merge(mean, left_on = \"carrier\", right_on = \"carrier\")\n",
    "df"
   ]
  },
  {
   "cell_type": "code",
   "execution_count": 185,
   "id": "ab00a85d",
   "metadata": {},
   "outputs": [
    {
     "data": {
      "text/plain": [
       "(-2.6481918749133326, 0.8821918749133328)"
      ]
     },
     "execution_count": 185,
     "metadata": {},
     "output_type": "execute_result"
    }
   ],
   "source": [
    "# Task 7\n",
    "import scipy.stats as st\n",
    "\n",
    "dl_mean = df['mean'].iloc[0]\n",
    "ua_mean = df['mean'].iloc[1]\n",
    "ua_mean\n",
    "\n",
    "dl_s_error = df['standard_error'].iloc[0]\n",
    "ua_s_error = df['standard_error'].iloc[1]\n",
    "\n",
    "# I'm using the scippy interval function \n",
    "\n",
    "# For Delta Airline\n",
    "st.t.interval(alpha=0.95, df=1000, loc=dl_mean, scale=dl_s_error) \n",
    "\n",
    "# For United Airlines\n",
    "st.t.interval(alpha=0.95, df=1000, loc=ua_mean, scale=ua_s_error) "
   ]
  },
  {
   "cell_type": "code",
   "execution_count": 174,
   "id": "caaa70a8",
   "metadata": {},
   "outputs": [
    {
     "data": {
      "text/plain": [
       "Ttest_indResult(statistic=-0.09260127511770136, pvalue=0.9262296143898068)"
      ]
     },
     "execution_count": 174,
     "metadata": {},
     "output_type": "execute_result"
    }
   ],
   "source": [
    "# Task 8\n",
    "from scipy.stats import ttest_ind\n",
    "\n",
    "cat1 = samples[samples.carrier =='UA']\n",
    "cat2 = samples[samples.carrier =='DL']\n",
    "cat2\n",
    "\n",
    "# print(cat2.iloc[0]['arr_delay'])\n",
    "stats = ttest_ind(cat1['arr_delay'], cat2['arr_delay'])\n",
    "stats\n"
   ]
  }
 ],
 "metadata": {
  "kernelspec": {
   "display_name": "Python 3",
   "language": "python",
   "name": "python3"
  },
  "language_info": {
   "codemirror_mode": {
    "name": "ipython",
    "version": 3
   },
   "file_extension": ".py",
   "mimetype": "text/x-python",
   "name": "python",
   "nbconvert_exporter": "python",
   "pygments_lexer": "ipython3",
   "version": "3.8.8"
  }
 },
 "nbformat": 4,
 "nbformat_minor": 5
}
