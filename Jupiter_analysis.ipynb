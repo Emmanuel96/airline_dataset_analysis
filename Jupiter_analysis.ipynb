{
 "cells": [
  {
   "cell_type": "code",
   "execution_count": 155,
   "id": "d786b1d6",
   "metadata": {},
   "outputs": [],
   "source": [
    "import pandas as pd\n",
    "import matplotlib.pyplot as plt\n",
    "import seaborn as sns\n",
    "import numpy as np\n"
   ]
  },
  {
   "cell_type": "code",
   "execution_count": 144,
   "id": "d515be33",
   "metadata": {},
   "outputs": [
    {
     "data": {
      "text/plain": [
       "year              0\n",
       "month             0\n",
       "day               0\n",
       "dep_time          0\n",
       "sched_dep_time    0\n",
       "dep_delay         0\n",
       "arr_time          0\n",
       "sched_arr_time    0\n",
       "arr_delay         0\n",
       "carrier           0\n",
       "flight            0\n",
       "tailnum           0\n",
       "origin            0\n",
       "dest              0\n",
       "air_time          0\n",
       "distance          0\n",
       "hour              0\n",
       "minute            0\n",
       "time_hour         0\n",
       "dtype: int64"
      ]
     },
     "execution_count": 144,
     "metadata": {},
     "output_type": "execute_result"
    }
   ],
   "source": [
    "df = pd.read_csv('flights.csv')\n",
    "df = df.dropna()\n",
    "df.isnull().sum()"
   ]
  },
  {
   "cell_type": "raw",
   "id": "9bf9d5fc",
   "metadata": {},
   "source": [
    "We have removed all our null values and now we can work with a more clean dataset"
   ]
  },
  {
   "cell_type": "code",
   "execution_count": 145,
   "id": "5e4e0183",
   "metadata": {},
   "outputs": [
    {
     "data": {
      "text/html": [
       "<div>\n",
       "<style scoped>\n",
       "    .dataframe tbody tr th:only-of-type {\n",
       "        vertical-align: middle;\n",
       "    }\n",
       "\n",
       "    .dataframe tbody tr th {\n",
       "        vertical-align: top;\n",
       "    }\n",
       "\n",
       "    .dataframe thead th {\n",
       "        text-align: right;\n",
       "    }\n",
       "</style>\n",
       "<table border=\"1\" class=\"dataframe\">\n",
       "  <thead>\n",
       "    <tr style=\"text-align: right;\">\n",
       "      <th></th>\n",
       "      <th>year</th>\n",
       "      <th>month</th>\n",
       "      <th>day</th>\n",
       "      <th>dep_time</th>\n",
       "      <th>sched_dep_time</th>\n",
       "      <th>dep_delay</th>\n",
       "      <th>arr_time</th>\n",
       "      <th>sched_arr_time</th>\n",
       "      <th>arr_delay</th>\n",
       "      <th>carrier</th>\n",
       "      <th>flight</th>\n",
       "      <th>tailnum</th>\n",
       "      <th>origin</th>\n",
       "      <th>dest</th>\n",
       "      <th>air_time</th>\n",
       "      <th>distance</th>\n",
       "      <th>hour</th>\n",
       "      <th>minute</th>\n",
       "      <th>time_hour</th>\n",
       "    </tr>\n",
       "  </thead>\n",
       "  <tbody>\n",
       "    <tr>\n",
       "      <th>0</th>\n",
       "      <td>2013</td>\n",
       "      <td>1</td>\n",
       "      <td>1</td>\n",
       "      <td>517.0</td>\n",
       "      <td>515</td>\n",
       "      <td>2.0</td>\n",
       "      <td>830.0</td>\n",
       "      <td>819</td>\n",
       "      <td>11.0</td>\n",
       "      <td>UA</td>\n",
       "      <td>1545</td>\n",
       "      <td>N14228</td>\n",
       "      <td>EWR</td>\n",
       "      <td>IAH</td>\n",
       "      <td>227.0</td>\n",
       "      <td>1400</td>\n",
       "      <td>5</td>\n",
       "      <td>15</td>\n",
       "      <td>2013-01-01T05:00:00Z</td>\n",
       "    </tr>\n",
       "    <tr>\n",
       "      <th>1</th>\n",
       "      <td>2013</td>\n",
       "      <td>1</td>\n",
       "      <td>1</td>\n",
       "      <td>533.0</td>\n",
       "      <td>529</td>\n",
       "      <td>4.0</td>\n",
       "      <td>850.0</td>\n",
       "      <td>830</td>\n",
       "      <td>20.0</td>\n",
       "      <td>UA</td>\n",
       "      <td>1714</td>\n",
       "      <td>N24211</td>\n",
       "      <td>LGA</td>\n",
       "      <td>IAH</td>\n",
       "      <td>227.0</td>\n",
       "      <td>1416</td>\n",
       "      <td>5</td>\n",
       "      <td>29</td>\n",
       "      <td>2013-01-01T05:00:00Z</td>\n",
       "    </tr>\n",
       "    <tr>\n",
       "      <th>2</th>\n",
       "      <td>2013</td>\n",
       "      <td>1</td>\n",
       "      <td>1</td>\n",
       "      <td>542.0</td>\n",
       "      <td>540</td>\n",
       "      <td>2.0</td>\n",
       "      <td>923.0</td>\n",
       "      <td>850</td>\n",
       "      <td>33.0</td>\n",
       "      <td>AA</td>\n",
       "      <td>1141</td>\n",
       "      <td>N619AA</td>\n",
       "      <td>JFK</td>\n",
       "      <td>MIA</td>\n",
       "      <td>160.0</td>\n",
       "      <td>1089</td>\n",
       "      <td>5</td>\n",
       "      <td>40</td>\n",
       "      <td>2013-01-01T05:00:00Z</td>\n",
       "    </tr>\n",
       "    <tr>\n",
       "      <th>3</th>\n",
       "      <td>2013</td>\n",
       "      <td>1</td>\n",
       "      <td>1</td>\n",
       "      <td>544.0</td>\n",
       "      <td>545</td>\n",
       "      <td>-1.0</td>\n",
       "      <td>1004.0</td>\n",
       "      <td>1022</td>\n",
       "      <td>-18.0</td>\n",
       "      <td>B6</td>\n",
       "      <td>725</td>\n",
       "      <td>N804JB</td>\n",
       "      <td>JFK</td>\n",
       "      <td>BQN</td>\n",
       "      <td>183.0</td>\n",
       "      <td>1576</td>\n",
       "      <td>5</td>\n",
       "      <td>45</td>\n",
       "      <td>2013-01-01T05:00:00Z</td>\n",
       "    </tr>\n",
       "    <tr>\n",
       "      <th>4</th>\n",
       "      <td>2013</td>\n",
       "      <td>1</td>\n",
       "      <td>1</td>\n",
       "      <td>554.0</td>\n",
       "      <td>600</td>\n",
       "      <td>-6.0</td>\n",
       "      <td>812.0</td>\n",
       "      <td>837</td>\n",
       "      <td>-25.0</td>\n",
       "      <td>DL</td>\n",
       "      <td>461</td>\n",
       "      <td>N668DN</td>\n",
       "      <td>LGA</td>\n",
       "      <td>ATL</td>\n",
       "      <td>116.0</td>\n",
       "      <td>762</td>\n",
       "      <td>6</td>\n",
       "      <td>0</td>\n",
       "      <td>2013-01-01T06:00:00Z</td>\n",
       "    </tr>\n",
       "  </tbody>\n",
       "</table>\n",
       "</div>"
      ],
      "text/plain": [
       "   year  month  day  dep_time  sched_dep_time  dep_delay  arr_time  \\\n",
       "0  2013      1    1     517.0             515        2.0     830.0   \n",
       "1  2013      1    1     533.0             529        4.0     850.0   \n",
       "2  2013      1    1     542.0             540        2.0     923.0   \n",
       "3  2013      1    1     544.0             545       -1.0    1004.0   \n",
       "4  2013      1    1     554.0             600       -6.0     812.0   \n",
       "\n",
       "   sched_arr_time  arr_delay carrier  flight tailnum origin dest  air_time  \\\n",
       "0             819       11.0      UA    1545  N14228    EWR  IAH     227.0   \n",
       "1             830       20.0      UA    1714  N24211    LGA  IAH     227.0   \n",
       "2             850       33.0      AA    1141  N619AA    JFK  MIA     160.0   \n",
       "3            1022      -18.0      B6     725  N804JB    JFK  BQN     183.0   \n",
       "4             837      -25.0      DL     461  N668DN    LGA  ATL     116.0   \n",
       "\n",
       "   distance  hour  minute             time_hour  \n",
       "0      1400     5      15  2013-01-01T05:00:00Z  \n",
       "1      1416     5      29  2013-01-01T05:00:00Z  \n",
       "2      1089     5      40  2013-01-01T05:00:00Z  \n",
       "3      1576     5      45  2013-01-01T05:00:00Z  \n",
       "4       762     6       0  2013-01-01T06:00:00Z  "
      ]
     },
     "execution_count": 145,
     "metadata": {},
     "output_type": "execute_result"
    }
   ],
   "source": [
    "df.head()"
   ]
  },
  {
   "cell_type": "raw",
   "id": "bf66d899",
   "metadata": {},
   "source": [
    "# Task 2: "
   ]
  },
  {
   "cell_type": "code",
   "execution_count": 48,
   "id": "126224a4",
   "metadata": {},
   "outputs": [
    {
     "data": {
      "image/png": "[encoded data removed]",
      "text/plain": [
       "<Figure size 864x648 with 2 Axes>"
      ]
     },
     "metadata": {
      "needs_background": "light"
     },
     "output_type": "display_data"
    }
   ],
   "source": [
    "corr_matrix = df.corr()\n",
    "f, ax = plt.subplots(figsize=(12, 9))\n",
    "sns.heatmap(corr_matrix, vmax=1, square=True);\n",
    "plt.show()"
   ]
  },
  {
   "cell_type": "raw",
   "id": "3e7cb884",
   "metadata": {},
   "source": [
    "From the heat map above, we can see, as expected, that the arrival delay has a high correlation with the departure delay. We can also see that both the delayed arrival and departure have a negative correlation with the distance i.e. the longer the distance the more likely they are delayed. \n",
    "\n",
    "There's not too much to learn from the map above that we didn't already know, we should instead check for the carriers with the most arrivals and delayed flights"
   ]
  },
  {
   "cell_type": "code",
   "execution_count": 49,
   "id": "f4d6229a",
   "metadata": {},
   "outputs": [
    {
     "name": "stdout",
     "output_type": "stream",
     "text": [
      "carrier\n",
      "OO       29\n",
      "HA      342\n",
      "YV      544\n",
      "F9      681\n",
      "AS      709\n",
      "FL     3175\n",
      "VX     5116\n",
      "WN    12044\n",
      "9E    17294\n",
      "US    19831\n",
      "MQ    25037\n",
      "AA    31947\n",
      "DL    47658\n",
      "EV    51108\n",
      "B6    54049\n",
      "UA    57782\n",
      "Name: arr_delay, dtype: int64\n"
     ]
    }
   ],
   "source": [
    "#2 View of the total amount of delayed arrival time\n",
    "delayed_arrivals = df.groupby('carrier')['arr_delay'].count().sort_values()\n",
    "print(delayed_arrivals)"
   ]
  },
  {
   "cell_type": "raw",
   "id": "dd2ce4da",
   "metadata": {},
   "source": [
    "Interestingly, UA has the most delays. Way more than the delays for DL"
   ]
  },
  {
   "cell_type": "code",
   "execution_count": 50,
   "id": "c231328c",
   "metadata": {},
   "outputs": [
    {
     "name": "stdout",
     "output_type": "stream",
     "text": [
      "carrier\n",
      "OO       29\n",
      "HA      342\n",
      "YV      544\n",
      "F9      681\n",
      "AS      709\n",
      "FL     3175\n",
      "VX     5116\n",
      "WN    12044\n",
      "9E    17294\n",
      "US    19831\n",
      "MQ    25037\n",
      "AA    31947\n",
      "DL    47658\n",
      "EV    51108\n",
      "B6    54049\n",
      "UA    57782\n",
      "Name: dep_delay, dtype: int64\n"
     ]
    }
   ],
   "source": [
    "# 2 View of the total amount of delayed departures\n",
    "delayed_departures = df.groupby('carrier')['dep_delay'].count().sort_values()\n",
    "print(delayed_departures)"
   ]
  },
  {
   "cell_type": "raw",
   "id": "043e2d8f",
   "metadata": {},
   "source": [
    "Again, interestingly, we can see that DL has less total time for delayed departures than UA. "
   ]
  },
  {
   "cell_type": "code",
   "execution_count": 43,
   "id": "5163a23e",
   "metadata": {},
   "outputs": [
    {
     "name": "stdout",
     "output_type": "stream",
     "text": [
      "month\n",
      "2     23611\n",
      "1     26398\n",
      "11    26971\n",
      "9     27010\n",
      "12    27020\n",
      "6     27075\n",
      "4     27564\n",
      "3     27902\n",
      "5     28128\n",
      "7     28293\n",
      "10    28618\n",
      "8     28756\n",
      "Name: arr_delay, dtype: int64\n"
     ]
    }
   ],
   "source": [
    "# 6. View of the month with the most delayed departures\n",
    "months_delayed_arrival_times = df.groupby('month')['arr_delay'].count().sort_values()\n",
    "print(months_delayed_arrival_times)"
   ]
  },
  {
   "cell_type": "raw",
   "id": "8bf57755",
   "metadata": {},
   "source": [
    "August and October both have the most delayed departure. Next we check for the months with the most delayed arrivals"
   ]
  },
  {
   "cell_type": "code",
   "execution_count": 54,
   "id": "572cc530",
   "metadata": {},
   "outputs": [
    {
     "name": "stdout",
     "output_type": "stream",
     "text": [
      "month\n",
      "2     23611\n",
      "1     26398\n",
      "11    26971\n",
      "9     27010\n",
      "12    27020\n",
      "6     27075\n",
      "4     27564\n",
      "3     27902\n",
      "5     28128\n",
      "7     28293\n",
      "10    28618\n",
      "8     28756\n",
      "Name: dep_delay, dtype: int64\n"
     ]
    }
   ],
   "source": [
    "months_delayed_arrival_times = df.groupby('month')['dep_delay'].count().sort_values()\n",
    "print(months_delayed_arrival_times)"
   ]
  },
  {
   "cell_type": "raw",
   "id": "9cc43db5",
   "metadata": {},
   "source": [
    "August and October both have the most delayed departure. Next we check for the months with the most delayed arrivals"
   ]
  },
  {
   "cell_type": "code",
   "execution_count": 61,
   "id": "56ffb7ac",
   "metadata": {},
   "outputs": [
    {
     "name": "stdout",
     "output_type": "stream",
     "text": [
      "origin  dest\n",
      "JFK     MEM         1\n",
      "        STL         1\n",
      "        BHM         1\n",
      "LGA     LEX         1\n",
      "JFK     JAC         2\n",
      "                ...  \n",
      "LGA     CLT      5961\n",
      "JFK     SFO      8109\n",
      "LGA     ORD      8507\n",
      "        ATL     10041\n",
      "JFK     LAX     11159\n",
      "Name: arr_delay, Length: 223, dtype: int64\n"
     ]
    }
   ],
   "source": [
    "trip_with_most_arrival_delays = df.groupby(['origin', 'dest'])['arr_delay'].count().sort_values(ascending = True)\n",
    "print(trip_with_most_arrival_delays)"
   ]
  },
  {
   "cell_type": "raw",
   "id": "bb765e8d",
   "metadata": {},
   "source": [
    "JFK -> LAX had the most arrival delays and JFK to Memphis had the lowest amount of arrival delays"
   ]
  },
  {
   "cell_type": "code",
   "execution_count": 63,
   "id": "2221de89",
   "metadata": {},
   "outputs": [
    {
     "name": "stdout",
     "output_type": "stream",
     "text": [
      "origin  dest\n",
      "JFK     MEM         1\n",
      "        STL         1\n",
      "        BHM         1\n",
      "LGA     LEX         1\n",
      "JFK     JAC         2\n",
      "                ...  \n",
      "LGA     CLT      5961\n",
      "JFK     SFO      8109\n",
      "LGA     ORD      8507\n",
      "        ATL     10041\n",
      "JFK     LAX     11159\n",
      "Name: dep_delay, Length: 223, dtype: int64\n"
     ]
    }
   ],
   "source": [
    "trip_with_most_departure_delays = df.groupby(['origin', 'dest'])['dep_delay'].count().sort_values(ascending = True)\n",
    "print(trip_with_most_departure_delays)"
   ]
  },
  {
   "cell_type": "raw",
   "id": "17769e2f",
   "metadata": {},
   "source": [
    "And it's the same thing with the delayed departure "
   ]
  },
  {
   "cell_type": "code",
   "execution_count": 146,
   "id": "1d6233fe",
   "metadata": {},
   "outputs": [
    {
     "name": "stdout",
     "output_type": "stream",
     "text": [
      "origin\n",
      "LGA    101140\n",
      "JFK    109079\n",
      "EWR    117127\n",
      "Name: dep_delay, dtype: int64\n"
     ]
    }
   ],
   "source": [
    "# 2\n",
    "trip_with_most_departure_delays = df.groupby(['origin'])['dep_delay'].count().sort_values(ascending = True)\n",
    "print(trip_with_most_departure_delays)"
   ]
  },
  {
   "cell_type": "raw",
   "id": "52bd6d92",
   "metadata": {},
   "source": [
    "Interestingly, but not really suprising, flights from EWR had the most delays which was not suprising because of its reputation amongst American airports. In this case though, it's possible that it's not entirely due to the airport quality but the weather or the airlines themselves"
   ]
  },
  {
   "cell_type": "code",
   "execution_count": 81,
   "id": "ba5f630b",
   "metadata": {},
   "outputs": [
    {
     "data": {
      "text/html": [
       "<div>\n",
       "<style scoped>\n",
       "    .dataframe tbody tr th:only-of-type {\n",
       "        vertical-align: middle;\n",
       "    }\n",
       "\n",
       "    .dataframe tbody tr th {\n",
       "        vertical-align: top;\n",
       "    }\n",
       "\n",
       "    .dataframe thead th {\n",
       "        text-align: right;\n",
       "    }\n",
       "</style>\n",
       "<table border=\"1\" class=\"dataframe\">\n",
       "  <thead>\n",
       "    <tr style=\"text-align: right;\">\n",
       "      <th></th>\n",
       "      <th>carrier</th>\n",
       "      <th>arr_delay</th>\n",
       "    </tr>\n",
       "  </thead>\n",
       "  <tbody>\n",
       "    <tr>\n",
       "      <th>0</th>\n",
       "      <td>UA</td>\n",
       "      <td>11.0</td>\n",
       "    </tr>\n",
       "    <tr>\n",
       "      <th>1</th>\n",
       "      <td>UA</td>\n",
       "      <td>20.0</td>\n",
       "    </tr>\n",
       "    <tr>\n",
       "      <th>4</th>\n",
       "      <td>DL</td>\n",
       "      <td>-25.0</td>\n",
       "    </tr>\n",
       "    <tr>\n",
       "      <th>5</th>\n",
       "      <td>UA</td>\n",
       "      <td>12.0</td>\n",
       "    </tr>\n",
       "    <tr>\n",
       "      <th>12</th>\n",
       "      <td>UA</td>\n",
       "      <td>7.0</td>\n",
       "    </tr>\n",
       "    <tr>\n",
       "      <th>...</th>\n",
       "      <td>...</td>\n",
       "      <td>...</td>\n",
       "    </tr>\n",
       "    <tr>\n",
       "      <th>64108</th>\n",
       "      <td>UA</td>\n",
       "      <td>-2.0</td>\n",
       "    </tr>\n",
       "    <tr>\n",
       "      <th>64109</th>\n",
       "      <td>UA</td>\n",
       "      <td>-10.0</td>\n",
       "    </tr>\n",
       "    <tr>\n",
       "      <th>64112</th>\n",
       "      <td>UA</td>\n",
       "      <td>-11.0</td>\n",
       "    </tr>\n",
       "    <tr>\n",
       "      <th>64114</th>\n",
       "      <td>DL</td>\n",
       "      <td>-9.0</td>\n",
       "    </tr>\n",
       "    <tr>\n",
       "      <th>64115</th>\n",
       "      <td>UA</td>\n",
       "      <td>-3.0</td>\n",
       "    </tr>\n",
       "  </tbody>\n",
       "</table>\n",
       "<p>20000 rows × 2 columns</p>\n",
       "</div>"
      ],
      "text/plain": [
       "      carrier  arr_delay\n",
       "0          UA       11.0\n",
       "1          UA       20.0\n",
       "4          DL      -25.0\n",
       "5          UA       12.0\n",
       "12         UA        7.0\n",
       "...       ...        ...\n",
       "64108      UA       -2.0\n",
       "64109      UA      -10.0\n",
       "64112      UA      -11.0\n",
       "64114      DL       -9.0\n",
       "64115      UA       -3.0\n",
       "\n",
       "[20000 rows x 2 columns]"
      ]
     },
     "execution_count": 81,
     "metadata": {},
     "output_type": "execute_result"
    }
   ],
   "source": [
    "# Task 3\n",
    "# I limited the total to 20,000 as you asked us to limit it to no more than 20k per airline\n",
    "pop_data = df[(df['carrier'] == 'UA') | (df['carrier'] == 'DL')][['carrier', 'arr_delay']]\n",
    "pop_data = pop_data.head(20000)\n",
    "pop_data"
   ]
  },
  {
   "cell_type": "code",
   "execution_count": null,
   "id": "dd221384",
   "metadata": {},
   "outputs": [],
   "source": []
  },
  {
   "cell_type": "code",
   "execution_count": 87,
   "id": "61dd1286",
   "metadata": {},
   "outputs": [
    {
     "data": {
      "text/html": [
       "<div>\n",
       "<style scoped>\n",
       "    .dataframe tbody tr th:only-of-type {\n",
       "        vertical-align: middle;\n",
       "    }\n",
       "\n",
       "    .dataframe tbody tr th {\n",
       "        vertical-align: top;\n",
       "    }\n",
       "\n",
       "    .dataframe thead th {\n",
       "        text-align: right;\n",
       "    }\n",
       "</style>\n",
       "<table border=\"1\" class=\"dataframe\">\n",
       "  <thead>\n",
       "    <tr style=\"text-align: right;\">\n",
       "      <th></th>\n",
       "      <th>carrier</th>\n",
       "      <th>arr_delay</th>\n",
       "      <th>sample_id</th>\n",
       "    </tr>\n",
       "  </thead>\n",
       "  <tbody>\n",
       "    <tr>\n",
       "      <th>39371</th>\n",
       "      <td>UA</td>\n",
       "      <td>-15.0</td>\n",
       "      <td>2</td>\n",
       "    </tr>\n",
       "    <tr>\n",
       "      <th>40397</th>\n",
       "      <td>UA</td>\n",
       "      <td>6.0</td>\n",
       "      <td>2</td>\n",
       "    </tr>\n",
       "    <tr>\n",
       "      <th>56185</th>\n",
       "      <td>UA</td>\n",
       "      <td>5.0</td>\n",
       "      <td>2</td>\n",
       "    </tr>\n",
       "    <tr>\n",
       "      <th>5100</th>\n",
       "      <td>UA</td>\n",
       "      <td>19.0</td>\n",
       "      <td>2</td>\n",
       "    </tr>\n",
       "    <tr>\n",
       "      <th>53250</th>\n",
       "      <td>UA</td>\n",
       "      <td>-17.0</td>\n",
       "      <td>2</td>\n",
       "    </tr>\n",
       "    <tr>\n",
       "      <th>...</th>\n",
       "      <td>...</td>\n",
       "      <td>...</td>\n",
       "      <td>...</td>\n",
       "    </tr>\n",
       "    <tr>\n",
       "      <th>12854</th>\n",
       "      <td>UA</td>\n",
       "      <td>39.0</td>\n",
       "      <td>2</td>\n",
       "    </tr>\n",
       "    <tr>\n",
       "      <th>50920</th>\n",
       "      <td>UA</td>\n",
       "      <td>-20.0</td>\n",
       "      <td>2</td>\n",
       "    </tr>\n",
       "    <tr>\n",
       "      <th>54336</th>\n",
       "      <td>UA</td>\n",
       "      <td>-3.0</td>\n",
       "      <td>2</td>\n",
       "    </tr>\n",
       "    <tr>\n",
       "      <th>57320</th>\n",
       "      <td>UA</td>\n",
       "      <td>5.0</td>\n",
       "      <td>2</td>\n",
       "    </tr>\n",
       "    <tr>\n",
       "      <th>34263</th>\n",
       "      <td>UA</td>\n",
       "      <td>27.0</td>\n",
       "      <td>2</td>\n",
       "    </tr>\n",
       "  </tbody>\n",
       "</table>\n",
       "<p>1000 rows × 3 columns</p>\n",
       "</div>"
      ],
      "text/plain": [
       "      carrier  arr_delay  sample_id\n",
       "39371      UA      -15.0          2\n",
       "40397      UA        6.0          2\n",
       "56185      UA        5.0          2\n",
       "5100       UA       19.0          2\n",
       "53250      UA      -17.0          2\n",
       "...       ...        ...        ...\n",
       "12854      UA       39.0          2\n",
       "50920      UA      -20.0          2\n",
       "54336      UA       -3.0          2\n",
       "57320      UA        5.0          2\n",
       "34263      UA       27.0          2\n",
       "\n",
       "[1000 rows x 3 columns]"
      ]
     },
     "execution_count": 87,
     "metadata": {},
     "output_type": "execute_result"
    }
   ],
   "source": [
    "# Task 4\n",
    "dl = pop_data[pop_data['carrier'] == 'DL'].sample(n=1000, random_state=5)\n",
    "dl['sample_id'] = 1\n",
    "ua = pop_data[pop_data['carrier'] == 'UA'].sample(n=1000, random_state=5)\n",
    "ua['sample_id'] = 2"
   ]
  },
  {
   "cell_type": "code",
   "execution_count": 91,
   "id": "3443fddc",
   "metadata": {},
   "outputs": [
    {
     "data": {
      "text/html": [
       "<div>\n",
       "<style scoped>\n",
       "    .dataframe tbody tr th:only-of-type {\n",
       "        vertical-align: middle;\n",
       "    }\n",
       "\n",
       "    .dataframe tbody tr th {\n",
       "        vertical-align: top;\n",
       "    }\n",
       "\n",
       "    .dataframe thead th {\n",
       "        text-align: right;\n",
       "    }\n",
       "</style>\n",
       "<table border=\"1\" class=\"dataframe\">\n",
       "  <thead>\n",
       "    <tr style=\"text-align: right;\">\n",
       "      <th></th>\n",
       "      <th>carrier</th>\n",
       "      <th>arr_delay</th>\n",
       "      <th>sample_id</th>\n",
       "    </tr>\n",
       "  </thead>\n",
       "  <tbody>\n",
       "    <tr>\n",
       "      <th>3162</th>\n",
       "      <td>DL</td>\n",
       "      <td>-16.0</td>\n",
       "      <td>1</td>\n",
       "    </tr>\n",
       "    <tr>\n",
       "      <th>42417</th>\n",
       "      <td>DL</td>\n",
       "      <td>2.0</td>\n",
       "      <td>1</td>\n",
       "    </tr>\n",
       "    <tr>\n",
       "      <th>21490</th>\n",
       "      <td>DL</td>\n",
       "      <td>-32.0</td>\n",
       "      <td>1</td>\n",
       "    </tr>\n",
       "    <tr>\n",
       "      <th>20084</th>\n",
       "      <td>DL</td>\n",
       "      <td>-16.0</td>\n",
       "      <td>1</td>\n",
       "    </tr>\n",
       "    <tr>\n",
       "      <th>53875</th>\n",
       "      <td>DL</td>\n",
       "      <td>-6.0</td>\n",
       "      <td>1</td>\n",
       "    </tr>\n",
       "    <tr>\n",
       "      <th>...</th>\n",
       "      <td>...</td>\n",
       "      <td>...</td>\n",
       "      <td>...</td>\n",
       "    </tr>\n",
       "    <tr>\n",
       "      <th>12854</th>\n",
       "      <td>UA</td>\n",
       "      <td>39.0</td>\n",
       "      <td>2</td>\n",
       "    </tr>\n",
       "    <tr>\n",
       "      <th>50920</th>\n",
       "      <td>UA</td>\n",
       "      <td>-20.0</td>\n",
       "      <td>2</td>\n",
       "    </tr>\n",
       "    <tr>\n",
       "      <th>54336</th>\n",
       "      <td>UA</td>\n",
       "      <td>-3.0</td>\n",
       "      <td>2</td>\n",
       "    </tr>\n",
       "    <tr>\n",
       "      <th>57320</th>\n",
       "      <td>UA</td>\n",
       "      <td>5.0</td>\n",
       "      <td>2</td>\n",
       "    </tr>\n",
       "    <tr>\n",
       "      <th>34263</th>\n",
       "      <td>UA</td>\n",
       "      <td>27.0</td>\n",
       "      <td>2</td>\n",
       "    </tr>\n",
       "  </tbody>\n",
       "</table>\n",
       "<p>2000 rows × 3 columns</p>\n",
       "</div>"
      ],
      "text/plain": [
       "      carrier  arr_delay  sample_id\n",
       "3162       DL      -16.0          1\n",
       "42417      DL        2.0          1\n",
       "21490      DL      -32.0          1\n",
       "20084      DL      -16.0          1\n",
       "53875      DL       -6.0          1\n",
       "...       ...        ...        ...\n",
       "12854      UA       39.0          2\n",
       "50920      UA      -20.0          2\n",
       "54336      UA       -3.0          2\n",
       "57320      UA        5.0          2\n",
       "34263      UA       27.0          2\n",
       "\n",
       "[2000 rows x 3 columns]"
      ]
     },
     "execution_count": 91,
     "metadata": {},
     "output_type": "execute_result"
    }
   ],
   "source": [
    "# Task 5\n",
    "samples = pd.concat([dl, ua])\n",
    "samples"
   ]
  },
  {
   "cell_type": "code",
   "execution_count": 115,
   "id": "55c89a2e",
   "metadata": {},
   "outputs": [
    {
     "name": "stdout",
     "output_type": "stream",
     "text": [
      "         arr_delay  sample_id\n",
      "carrier                      \n",
      "DL          -6.672          1\n",
      "UA          -0.898          2\n",
      "carrier\n",
      "DL    0.813181\n",
      "UA    0.946005\n",
      "Name: arr_delay, dtype: float64\n"
     ]
    }
   ],
   "source": [
    "# Task 6\n",
    "mean = samples.groupby('carrier').mean()\n",
    "mean\n",
    "standard_dev = samples.groupby('carrier').std()\n",
    "standard_error = standard_dev['arr_delay']/ numpy.sqrt(1000)\n",
    "print(mean)\n",
    "print(standard_error)"
   ]
  },
  {
   "cell_type": "code",
   "execution_count": 125,
   "id": "ab00a85d",
   "metadata": {},
   "outputs": [
    {
     "data": {
      "text/plain": [
       "carrier\n",
       "DL   -219.328\n",
       "UA   -310.102\n",
       "Name: arr_delay, dtype: float64"
      ]
     },
     "execution_count": 125,
     "metadata": {},
     "output_type": "execute_result"
    }
   ],
   "source": [
    "# Task 7\n",
    "lower_value = samples.groupby('carrier').min()\n",
    "upper_value = samples.groupby('carrier').max()\n",
    "\n",
    "confidence_interval = lower_value - mean - upper_value\n",
    "confidence_interval['arr_delay']"
   ]
  },
  {
   "cell_type": "code",
   "execution_count": 163,
   "id": "caaa70a8",
   "metadata": {},
   "outputs": [
    {
     "ename": "AttributeError",
     "evalue": "'Ttest_indResult' object has no attribute 't'",
     "output_type": "error",
     "traceback": [
      "\u001b[0;31m---------------------------------------------------------------------------\u001b[0m",
      "\u001b[0;31mAttributeError\u001b[0m                            Traceback (most recent call last)",
      "\u001b[0;32m<ipython-input-163-1d1ac90fcf90>\u001b[0m in \u001b[0;36m<module>\u001b[0;34m\u001b[0m\n\u001b[1;32m     11\u001b[0m \u001b[0;34m\u001b[0m\u001b[0m\n\u001b[1;32m     12\u001b[0m \u001b[0;34m\u001b[0m\u001b[0m\n\u001b[0;32m---> 13\u001b[0;31m \u001b[0mprint\u001b[0m\u001b[0;34m(\u001b[0m\u001b[0mstats\u001b[0m\u001b[0;34m.\u001b[0m\u001b[0mt\u001b[0m\u001b[0;34m.\u001b[0m\u001b[0mppf\u001b[0m\u001b[0;34m(\u001b[0m\u001b[0mq\u001b[0m\u001b[0;34m=\u001b[0m\u001b[0;36m0.025\u001b[0m\u001b[0;34m,\u001b[0m \u001b[0mdf\u001b[0m \u001b[0;34m=\u001b[0m \u001b[0;36m999\u001b[0m\u001b[0;34m)\u001b[0m\u001b[0;34m)\u001b[0m\u001b[0;34m\u001b[0m\u001b[0;34m\u001b[0m\u001b[0m\n\u001b[0m",
      "\u001b[0;31mAttributeError\u001b[0m: 'Ttest_indResult' object has no attribute 't'"
     ]
    }
   ],
   "source": [
    "# Task 8\n",
    "from scipy.stats import ttest_ind\n",
    "\n",
    "cat1 = samples[samples.carrier =='UA']\n",
    "cat2 = samples[samples.carrier =='DL']\n",
    "cat2\n",
    "\n",
    "np.set_printoptions(suppress=True)\n",
    "# print(cat2.iloc[0]['arr_delay'])\n",
    "stats = ttest_ind(cat1['arr_delay'], cat2['arr_delay'])\n",
    "\n",
    "\n",
    "print(stats.t.ppf(q=0.025, df = 999))"
   ]
  }
 ],
 "metadata": {
  "kernelspec": {
   "display_name": "Python 3",
   "language": "python",
   "name": "python3"
  },
  "language_info": {
   "codemirror_mode": {
    "name": "ipython",
    "version": 3
   },
   "file_extension": ".py",
   "mimetype": "text/x-python",
   "name": "python",
   "nbconvert_exporter": "python",
   "pygments_lexer": "ipython3",
   "version": "3.8.8"
  }
 },
 "nbformat": 4,
 "nbformat_minor": 5
}
